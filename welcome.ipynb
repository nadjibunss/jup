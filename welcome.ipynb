{
 "cells": [
  {
   "cell_type": "markdown",
   "metadata": {},
   "source": [
    "# 🎉 Welcome to JupyterLab on Render!\n",
    "\n",
    "JupyterLab berhasil di-deploy tanpa token authentication.\n",
    "\n",
    "## Features yang Tersedia:\n",
    "- ✅ Full terminal access dengan `apt`, `sudo`\n",
    "- ✅ Python packages: pandas, numpy, matplotlib, seaborn, scikit-learn\n",
    "- ✅ Git integration\n",
    "- ✅ Vim/nano text editors\n",
    "- ✅ System monitoring dengan `htop`"
   ]
  },
  {
   "cell_type": "code",
   "execution_count": null,
   "metadata": {},
   "source": [
    "# Test Python environment\n",
    "import sys\n",
    "import pandas as pd\n",
    "import numpy as np\n",
    "import matplotlib.pyplot as plt\n",
    "\n",
    "print(f\"Python version: {sys.version}\")\n",
    "print(f\"Pandas version: {pd.__version__}\")\n",
    "print(f\"NumPy version: {np.__version__}\")\n",
    "print(\"\\n🎊 JupyterLab ready untuk data science!\")\n",
    "\n",
    "# Simple plot test\n",
    "x = np.linspace(0, 10, 100)\n",
    "y = np.sin(x)\n",
    "\n",
    "plt.figure(figsize=(8, 4))\n",
    "plt.plot(x, y, 'b-', label='sin(x)')\n",
    "plt.title('JupyterLab Plot Test')\n",
    "plt.xlabel('x')\n",
    "plt.ylabel('sin(x)')\n",
    "plt.legend()\n",
    "plt.grid(True)\n",
    "plt.show()"
   ]
  }
 ],
 "metadata": {
  "kernelspec": {
   "display_name": "Python 3",
   "language": "python",
   "name": "python3"
  },
  "language_info": {
   "name": "python",
   "version": "3.11.0"
  }
 },
 "nbformat": 4,
 "nbformat_minor": 4
}
